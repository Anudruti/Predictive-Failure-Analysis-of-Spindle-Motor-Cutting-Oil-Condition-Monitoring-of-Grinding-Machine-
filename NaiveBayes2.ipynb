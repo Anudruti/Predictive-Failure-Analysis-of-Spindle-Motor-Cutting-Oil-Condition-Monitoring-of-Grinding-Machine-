{
 "cells": [
  {
   "cell_type": "code",
   "execution_count": 1,
   "metadata": {
    "scrolled": true
   },
   "outputs": [
    {
     "name": "stdout",
     "output_type": "stream",
     "text": [
      "id,dept,gender,place,decision\n",
      "1,cse,m,chennai,yes\n",
      "2,mech,m,vellore,no\n",
      "3,eee,f,vellore,yes\n",
      "4,cse,f,chennai,no\n",
      "5,mech,f,chennai,yes\n",
      "6,ece,m,chennai,no\n",
      "8,eee,f,vellore,no\n",
      "7,it,f,vellore,yes\n",
      "9,cse,m,vellore,yes\n",
      "10,mech,m,ap,no\n",
      "11,cse,f,vellore,yes\n",
      "12,eee,f,ap,no\n",
      "13,ece,f,chennai,no\n",
      "14,cse,m,ap,yes\n",
      "15,it,m,vellore,yes\n",
      "16,mech,f,chennai,no\n",
      "17,ece,f,chennai,no\n",
      "18,cse,f,chennai,yes\n",
      "19,mech,m,ap,no\n",
      "20,it,m,ap,no\n",
      "21,eee,m,chennai,no\n",
      "22,ece,f,vellore,yes\n",
      "23,it,f,vellore,yes\n",
      "24,cse,m,chennai,yes\n",
      "25,cse,f,ap,no\n",
      "\n",
      "['id,dept,gender,place,decision', '1,cse,m,chennai,yes', '2,mech,m,vellore,no', '3,eee,f,vellore,yes', '4,cse,f,chennai,no', '5,mech,f,chennai,yes', '6,ece,m,chennai,no', '8,eee,f,vellore,no', '7,it,f,vellore,yes', '9,cse,m,vellore,yes', '10,mech,m,ap,no', '11,cse,f,vellore,yes', '12,eee,f,ap,no', '13,ece,f,chennai,no', '14,cse,m,ap,yes', '15,it,m,vellore,yes', '16,mech,f,chennai,no', '17,ece,f,chennai,no', '18,cse,f,chennai,yes', '19,mech,m,ap,no', '20,it,m,ap,no', '21,eee,m,chennai,no', '22,ece,f,vellore,yes', '23,it,f,vellore,yes', '24,cse,m,chennai,yes', '25,cse,f,ap,no', '']\n",
      "Enter id,dept,gender,place:  26,ece,f,chennai\n",
      "decision = No\n"
     ]
    }
   ],
   "source": [
    "c1_count = 0\n",
    "c2_count = 0\n",
    "c1 = [0,0,0,0]\n",
    "c2 = [0,0,0,0]\n",
    "pc1 = [0,0,0,0]\n",
    "pc2 = [0,0,0,0]\n",
    "data = []\n",
    "f = open(\"NaiveBayes.csv\",\"r\") \n",
    "d = f.read()\n",
    "print(d)\n",
    "\n",
    "lines = d.split(\"\\n\")\n",
    "print(lines)\n",
    "for d in lines:\n",
    "    data.append((d.split(\",\"))) #Splitting the input data separated by commas\n",
    "\n",
    "attrs = len(data[0])\n",
    "for i in range(len(lines)-1): \n",
    "    if data[i][attrs-1] == \"yes\": \n",
    "        c1_count = c1_count + 1 #incrementing count of yes\n",
    "    if data[i][attrs-1] == \"no\": \n",
    "        c2_count = c2_count + 1 #incrementing count of no\n",
    "pofc1 = c1_count/len(lines) \n",
    "pofc2 = c2_count/len(lines) \n",
    "inp = input(\"Enter id,dept,gender,place:  \") #taking input from user\n",
    "inp_data = inp.split(\",\")\n",
    "for i in range(len(lines)-1): \n",
    "    for j in range(attrs-1): \n",
    "        if data[i][j].lower() == inp_data[j].lower(): \n",
    "            if data[i][attrs-1].lower() == \"yes\":\n",
    "                c1[j] = c1[j] + 1\n",
    "            else:\n",
    "                c2[j] = c2[j] + 1\n",
    "pc1[:] = [x/c1_count for x in c1]\n",
    "pc2[:] = [x/c2_count for x in c2]\n",
    "pxbyc1 = 1\n",
    "pxbyc2 = 1\n",
    "for x in pc1:\n",
    "    pxbyc1 = pxbyc1*x \n",
    "for x in pc2:\n",
    "    pxbyc2 = pxbyc2*x \n",
    "pxbyc1 = pxbyc1 * pofc1 #calculating conditional probability\n",
    "pxbyc2 = pxbyc2 * pofc2\n",
    "if pxbyc1 > pxbyc2:\n",
    "    print(\"decision = Yes\")\n",
    "else:\n",
    "    print(\"decision = No\")"
   ]
  },
  {
   "cell_type": "code",
   "execution_count": null,
   "metadata": {},
   "outputs": [],
   "source": []
  },
  {
   "cell_type": "code",
   "execution_count": null,
   "metadata": {},
   "outputs": [],
   "source": []
  },
  {
   "cell_type": "code",
   "execution_count": null,
   "metadata": {},
   "outputs": [],
   "source": []
  },
  {
   "cell_type": "code",
   "execution_count": null,
   "metadata": {},
   "outputs": [],
   "source": []
  },
  {
   "cell_type": "code",
   "execution_count": null,
   "metadata": {},
   "outputs": [],
   "source": []
  },
  {
   "cell_type": "code",
   "execution_count": null,
   "metadata": {},
   "outputs": [],
   "source": []
  },
  {
   "cell_type": "code",
   "execution_count": null,
   "metadata": {},
   "outputs": [],
   "source": []
  },
  {
   "cell_type": "code",
   "execution_count": null,
   "metadata": {},
   "outputs": [],
   "source": []
  },
  {
   "cell_type": "code",
   "execution_count": null,
   "metadata": {},
   "outputs": [],
   "source": []
  }
 ],
 "metadata": {
  "kernelspec": {
   "display_name": "Python 3",
   "language": "python",
   "name": "python3"
  },
  "language_info": {
   "codemirror_mode": {
    "name": "ipython",
    "version": 3
   },
   "file_extension": ".py",
   "mimetype": "text/x-python",
   "name": "python",
   "nbconvert_exporter": "python",
   "pygments_lexer": "ipython3",
   "version": "3.6.5"
  }
 },
 "nbformat": 4,
 "nbformat_minor": 2
}
